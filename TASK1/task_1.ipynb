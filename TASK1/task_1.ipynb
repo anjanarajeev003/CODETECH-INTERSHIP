#STEP 1 -IMPORT LIBRARIES
import numpy as np
import pandas as pd
import seaborn as sns
import matplotlib.pyplot as plt

#LOAD DATASET
df=pd.read_csv('Iris.csv')

#STEP 2 - EXPLORE THE DATA
#CHARACTERISTICS
#Display the first few rows - character 1
print(df.head())

#Display the structure and data types - character 2
print(df.info())

#DISTRIBUTIONS
#Display summary statistics for the numerical columns
print("\nDistribution Statistics:")
print(df.describe())

#CORRELATIONS
numerical_columns = df.select_dtypes(include=['float64']).columns
print("\nCorrelation Matrix:")
corr_matrix = df[numerical_columns].corr()
print(corr_matrix)

#OUTLIERS
for column in numerical_columns:
    plt.figure(figsize=(6, 4))
    sns.boxplot(y=df[column])
    plt.title(f'Box plot of {column}')
    plt.show()

#VISUALIZATIONS

#HISTOGRAM - to know the data distributions
df[numerical_columns].hist(bins=20, figsize=(12, 10))
plt.suptitle('Histograms for Numerical Columns', fontsize=16)
plt.show()

#SCATTER PLOT - to know the relationships
for i in range(len(numerical_columns)):
    for j in range(i + 1, len(numerical_columns)):
        plt.figure(figsize=(8, 6))
        plt.scatter(df[numerical_columns[i]], df[numerical_columns[j]])
        plt.title(numerical_columns[i] + ' & ' + numerical_columns[j])
        plt.xlabel(numerical_columns[i])
        plt.ylabel(numerical_columns[j])
        plt.grid(True)
        plt.show()

#HEATMAPS - to know the correlation
plt.figure(figsize=(8, 6))
cmap = plt.get_cmap('coolwarm')  # Choose colormap
plt.imshow(corr_matrix, cmap=cmap)
plt.colorbar()

plt.title('Correlation Matrix Heatmap')
plt.xticks(ticks=range(len(corr_matrix.columns)), labels=corr_matrix.columns)
plt.yticks(ticks=range(len(corr_matrix.columns)), labels=corr_matrix.columns)

plt.show()
